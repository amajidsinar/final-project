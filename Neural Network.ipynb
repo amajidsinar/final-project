{
 "cells": [
  {
   "cell_type": "code",
   "execution_count": 98,
   "metadata": {
    "collapsed": true
   },
   "outputs": [],
   "source": [
    "#3 layer neural network\n",
    "#consisted of initial,hidden, and final layer\n",
    "\n",
    "import numpy as np\n",
    "import matplotlib.pyplot as plt\n",
    "import scipy.special\n",
    "%matplotlib inline"
   ]
  },
  {
   "cell_type": "code",
   "execution_count": 99,
   "metadata": {
    "collapsed": false
   },
   "outputs": [],
   "source": [
    "class neuralNetwork:\n",
    "    def __init__(self,initialNodes,hiddenNodes,finalNodes,learningRate):\n",
    "        self.inodes = initialNodes\n",
    "        self.hnodes = hiddenNodes\n",
    "        self.fnodes = finalNodes\n",
    "        \n",
    "        #link weight matrices, wih and whf\n",
    "        #w11 w21\n",
    "        #w12 w22\n",
    "        \n",
    "        self.wih = np.random.normal(0.0,pow(self.hnodes,-0.5),(self.hnodes,self.inodes))\n",
    "        self.whf = np.random.normal(0.0,pow(self.fnodes,-0.5),(self.fnodes,self.hnodes))\n",
    "        \n",
    "        self.lr = learningRate\n",
    "        self.activationFunction = lambda x: scipy.special.expit(x)\n",
    "        \n",
    "        pass\n",
    "    \n",
    "    def query(self,inputs_list):\n",
    "        #convert inputs list to 2d array\n",
    "        inputs = np.array(inputs_list,ndmin=2).T\n",
    "        \n",
    "        hidden_outputs = self.activationFunction(np.dot(self.wih,inputs))\n",
    "        final_outputs = self.activationFunction(np.dot(self.whf,hidden_outputs))\n",
    "        \n",
    "        return final_outputs\n",
    "    \n",
    "    def train(self,inputs_list,targets_list):\n",
    "        #convert inputs list to 2d array\n",
    "        inputs = np.array(inputs_list,ndmin=2).T\n",
    "        \n",
    "        #convert targets list to 2d array\n",
    "        targets = np.array(targets_list,ndmin=2).T\n",
    "        \n",
    "        #calculate signals into final output layer\n",
    "        hidden_outputs = self.activationFunction(np.dot(self.wih,inputs))\n",
    "        final_outputs = self.activationFunction(np.dot(self.whf,hidden_outputs))\n",
    "        \n",
    "        #output errors is target - actual\n",
    "        final_errors = targets - final_outputs\n",
    "        #hidden layer error is the final_error, split by weights, recombined at hidden nodes                                        \n",
    "        hidden_errors = np.dot(self.whf.T,final_errors)\n",
    "        \n",
    "        #update the weights for link between hidden and final layers\n",
    "        self.whf += self.lr * np.dot((final_errors*final_outputs*(1-final_outputs)),np.transpose(hidden_outputs))                                    \n",
    "        #update the weights for link between initial and final layers\n",
    "        self.wih += self.lr * np.dot((hidden_errors*hidden_outputs*(1-hidden_outputs)),np.transpose(inputs))\n",
    "                                                \n",
    "        pass"
   ]
  },
  {
   "cell_type": "code",
   "execution_count": 100,
   "metadata": {
    "collapsed": false
   },
   "outputs": [],
   "source": [
    "#number of initial, hidden, and final nodes\n",
    "initialNodes = 120\n",
    "hiddenNodes = 5\n",
    "finalNodes = 2\n",
    "\n",
    "#learning rate\n",
    "learningRate = 0.2\n",
    "\n",
    "#create instance of neural network\n",
    "n = neuralNetwork(initialNodes,hiddenNodes,finalNodes,learningRate)\n",
    "\n",
    "#load the wave training data CSV file into a list\n",
    "training_data_file=open('training_data.csv','r')\n",
    "training_data_list=training_data_file.readlines()\n",
    "training_data_file.close()\n",
    "\n",
    "#train the neural network\n",
    "\n",
    "#epoch is the number of times the training data is used for training\n",
    "epochs = 3\n",
    "\n",
    "for e in range(epochs):\n",
    "    for record in training_data_list:\n",
    "        #split the record by the ','comma\n",
    "        all_values = record.split(';')\n",
    "        #input must be in 0 < input <= 1\n",
    "        inputs = (np.asfarray(all_values[1:]))\n",
    "        #create the target output values(all 0.01, except the desired label which is 0.99)\n",
    "        targets = np.zeros(finalNodes) + 0.01\n",
    "        #all_values[0] is the target label for this record\n",
    "        targets[int(all_values[0])] = 0.99\n",
    "        n.train(inputs,targets)\n",
    "        pass\n",
    "    pass"
   ]
  },
  {
   "cell_type": "code",
   "execution_count": 101,
   "metadata": {
    "collapsed": false
   },
   "outputs": [
    {
     "name": "stdout",
     "output_type": "stream",
     "text": [
      "0\n"
     ]
    }
   ],
   "source": [
    "#load the wave training test CSV file into a list\n",
    "test_data_file=open('test_data.csv','r')\n",
    "test_data_list=test_data_file.readlines()\n",
    "test_data_file.close()\n",
    "\n",
    "all_values = test_data_list[1].split(';')\n",
    "#print the label\n",
    "print(all_values[0])"
   ]
  },
  {
   "cell_type": "code",
   "execution_count": 102,
   "metadata": {
    "collapsed": false
   },
   "outputs": [
    {
     "data": {
      "text/plain": [
       "[<matplotlib.lines.Line2D at 0x1aee40f27b8>]"
      ]
     },
     "execution_count": 102,
     "metadata": {},
     "output_type": "execute_result"
    },
    {
     "data": {
      "image/png": "[encoded data removed]",
      "text/plain": [
       "<matplotlib.figure.Figure at 0x1aee40a6080>"
      ]
     },
     "metadata": {},
     "output_type": "display_data"
    }
   ],
   "source": [
    "sampling_rate = 0.025\n",
    "number_of_samples = 120\n",
    "\n",
    "t = np.arange(0,sampling_rate*number_of_samples,sampling_rate)\n",
    "plt.plot(t,all_values[1:])"
   ]
  },
  {
   "cell_type": "code",
   "execution_count": 103,
   "metadata": {
    "collapsed": false
   },
   "outputs": [
    {
     "data": {
      "text/plain": [
       "array([[ 0.06559942],\n",
       "       [ 0.0675243 ]])"
      ]
     },
     "execution_count": 103,
     "metadata": {},
     "output_type": "execute_result"
    }
   ],
   "source": [
    "n.query(np.asfarray(all_values[1:]))"
   ]
  },
  {
   "cell_type": "code",
   "execution_count": null,
   "metadata": {
    "collapsed": true
   },
   "outputs": [],
   "source": []
  }
 ],
 "metadata": {
  "anaconda-cloud": {},
  "kernelspec": {
   "display_name": "Python [conda root]",
   "language": "python",
   "name": "conda-root-py"
  },
  "language_info": {
   "codemirror_mode": {
    "name": "ipython",
    "version": 3
   },
   "file_extension": ".py",
   "mimetype": "text/x-python",
   "name": "python",
   "nbconvert_exporter": "python",
   "pygments_lexer": "ipython3",
   "version": "3.5.2"
  }
 },
 "nbformat": 4,
 "nbformat_minor": 1
}
